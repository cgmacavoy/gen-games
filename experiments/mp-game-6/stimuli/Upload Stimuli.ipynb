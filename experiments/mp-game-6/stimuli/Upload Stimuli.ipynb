{
 "cells": [
  {
   "cell_type": "code",
   "execution_count": 4,
   "metadata": {},
   "outputs": [],
   "source": [
    "import pymongo as pm\n",
    "import json"
   ]
  },
  {
   "cell_type": "markdown",
   "metadata": {},
   "source": [
    "## Stimuli Upload\n",
    "`ratchet_id` refers to a set of rules to be queried for trials. Each collection of `ratchet_id` has a `_dev` version, except for `dev` collection itself.\n",
    "\n",
    "Current Values:\n",
    "1. `dev`: 2 single features rules, 2 conjunctive rules, 2 disjunctive rules, 2 conjunctive disjunction rules, & 2 disjunctive conjunction rules\n",
    "2. `50_rules`: 10 single feature rules, 10 conjunctive rules, 10 disjunctive rules, 10 conjunctive disjunction rules, & 10 disjunctive conjunction rules"
   ]
  },
  {
   "cell_type": "code",
   "execution_count": 10,
   "metadata": {},
   "outputs": [],
   "source": [
    "def gen_vars(local_machine=True):\n",
    "    if local_machine:\n",
    "        pswd = \"\"\n",
    "        user = \"\"\n",
    "        host = \"localhost\"\n",
    "    else:\n",
    "        auth = pd.read_csv('.auth.txt', header = None)\n",
    "        pswd = auth.values[0][0]\n",
    "        user = 'sketchloop'\n",
    "        host = 'rxdhawkins.me' \n",
    "    return user, pswd, host"
   ]
  },
  {
   "cell_type": "code",
   "execution_count": 11,
   "metadata": {},
   "outputs": [],
   "source": [
    "def convert_concept_summary_into_db_data(data):\n",
    "    db_data = {\n",
    "        \"SINGLE_FEATURE\": [],\n",
    "        \"CONJUNCTION\": [],\n",
    "        \"DISJUNCTION\": [],\n",
    "        \"CONJUNCTION_DISJUNCTION\": [],\n",
    "        \"DISJUNCTION_DISJUNCTION\": [],\n",
    "    }\n",
    "    for rule_idx, rule in data.items():\n",
    "        rule_type = rule[\"type\"]\n",
    "        speciesName = get_creature_names(rule_type)[0]\n",
    "        speciesNamePlural = get_creature_names(rule_type)[1]\n",
    "        db_data[rule_type].append({\n",
    "            \"rule_idx\": int(rule_idx),\n",
    "            \"file_name\": rule[\"name\"],\n",
    "            \"name\": rule[\"phrase\"],\n",
    "            \"games\": [],\n",
    "            \"numGames\": 0,\n",
    "            \"speciesName\": speciesName,\n",
    "            \"speciesNamePlural\": speciesNamePlural,\n",
    "        })\n",
    "    return db_data"
   ]
  },
  {
   "cell_type": "code",
   "execution_count": 12,
   "metadata": {},
   "outputs": [],
   "source": [
    "def load_data_into_db(concept_summary_file, col_prefix):\n",
    "    with open(concept_summary_file) as f:\n",
    "        data = json.load(f)\n",
    "        db_data = convert_concept_summary_into_db_data(data)\n",
    "        for rule_type, rules in db_data.items():\n",
    "            col = col_prefix.format(rule_type)\n",
    "            for rule in rules:\n",
    "                db[col].insert_one(rule)"
   ]
  },
  {
   "cell_type": "code",
   "execution_count": 15,
   "metadata": {},
   "outputs": [],
   "source": [
    "# Set Variables \n",
    "user, pswd, host = gen_vars(local_machine=True)\n",
    "\n",
    "if user == '' or pswd == '':\n",
    "    conn = pm.MongoClient('mongodb://{}'.format(host))    \n",
    "else:\n",
    "    conn = pm.MongoClient('mongodb://{}:{}@{}'.format(user, pswd, host))\n",
    "db = conn['genGames']\n"
   ]
  },
  {
   "cell_type": "code",
   "execution_count": 16,
   "metadata": {},
   "outputs": [
    {
     "ename": "NameError",
     "evalue": "global name 'gen_creature_names' is not defined",
     "output_type": "error",
     "traceback": [
      "\u001b[0;31m---------------------------------------------------------------------------\u001b[0m",
      "\u001b[0;31mNameError\u001b[0m                                 Traceback (most recent call last)",
      "\u001b[0;32m<ipython-input-16-9186fd380995>\u001b[0m in \u001b[0;36m<module>\u001b[0;34m()\u001b[0m\n\u001b[1;32m      2\u001b[0m \u001b[0mdev_col_prefix\u001b[0m \u001b[0;34m=\u001b[0m \u001b[0;34m'dev_{}'\u001b[0m\u001b[0;34m\u001b[0m\u001b[0m\n\u001b[1;32m      3\u001b[0m \u001b[0mdev_concept_summary_file\u001b[0m \u001b[0;34m=\u001b[0m \u001b[0;34m'./dev/concept_summary.json'\u001b[0m\u001b[0;34m\u001b[0m\u001b[0m\n\u001b[0;32m----> 4\u001b[0;31m \u001b[0mload_data_into_db\u001b[0m\u001b[0;34m(\u001b[0m\u001b[0mdev_concept_summary_file\u001b[0m\u001b[0;34m,\u001b[0m \u001b[0mdev_col_prefix\u001b[0m\u001b[0;34m)\u001b[0m\u001b[0;34m\u001b[0m\u001b[0m\n\u001b[0m",
      "\u001b[0;32m<ipython-input-12-d726fc9b6039>\u001b[0m in \u001b[0;36mload_data_into_db\u001b[0;34m(concept_summary_file, col_prefix)\u001b[0m\n\u001b[1;32m      2\u001b[0m     \u001b[0;32mwith\u001b[0m \u001b[0mopen\u001b[0m\u001b[0;34m(\u001b[0m\u001b[0mconcept_summary_file\u001b[0m\u001b[0;34m)\u001b[0m \u001b[0;32mas\u001b[0m \u001b[0mf\u001b[0m\u001b[0;34m:\u001b[0m\u001b[0;34m\u001b[0m\u001b[0m\n\u001b[1;32m      3\u001b[0m         \u001b[0mdata\u001b[0m \u001b[0;34m=\u001b[0m \u001b[0mjson\u001b[0m\u001b[0;34m.\u001b[0m\u001b[0mload\u001b[0m\u001b[0;34m(\u001b[0m\u001b[0mf\u001b[0m\u001b[0;34m)\u001b[0m\u001b[0;34m\u001b[0m\u001b[0m\n\u001b[0;32m----> 4\u001b[0;31m         \u001b[0mdb_data\u001b[0m \u001b[0;34m=\u001b[0m \u001b[0mconvert_concept_summary_into_db_data\u001b[0m\u001b[0;34m(\u001b[0m\u001b[0mdata\u001b[0m\u001b[0;34m)\u001b[0m\u001b[0;34m\u001b[0m\u001b[0m\n\u001b[0m\u001b[1;32m      5\u001b[0m         \u001b[0;32mfor\u001b[0m \u001b[0mrule_type\u001b[0m\u001b[0;34m,\u001b[0m \u001b[0mrules\u001b[0m \u001b[0;32min\u001b[0m \u001b[0mdb_data\u001b[0m\u001b[0;34m.\u001b[0m\u001b[0mitems\u001b[0m\u001b[0;34m(\u001b[0m\u001b[0;34m)\u001b[0m\u001b[0;34m:\u001b[0m\u001b[0;34m\u001b[0m\u001b[0m\n\u001b[1;32m      6\u001b[0m             \u001b[0mcol\u001b[0m \u001b[0;34m=\u001b[0m \u001b[0mcol_prefix\u001b[0m\u001b[0;34m.\u001b[0m\u001b[0mformat\u001b[0m\u001b[0;34m(\u001b[0m\u001b[0mrule_type\u001b[0m\u001b[0;34m)\u001b[0m\u001b[0;34m\u001b[0m\u001b[0m\n",
      "\u001b[0;32m<ipython-input-11-d06f64391b9f>\u001b[0m in \u001b[0;36mconvert_concept_summary_into_db_data\u001b[0;34m(data)\u001b[0m\n\u001b[1;32m      9\u001b[0m     \u001b[0;32mfor\u001b[0m \u001b[0mrule_idx\u001b[0m\u001b[0;34m,\u001b[0m \u001b[0mrule\u001b[0m \u001b[0;32min\u001b[0m \u001b[0mdata\u001b[0m\u001b[0;34m.\u001b[0m\u001b[0mitems\u001b[0m\u001b[0;34m(\u001b[0m\u001b[0;34m)\u001b[0m\u001b[0;34m:\u001b[0m\u001b[0;34m\u001b[0m\u001b[0m\n\u001b[1;32m     10\u001b[0m         \u001b[0mrule_type\u001b[0m \u001b[0;34m=\u001b[0m \u001b[0mrule\u001b[0m\u001b[0;34m[\u001b[0m\u001b[0;34m\"type\"\u001b[0m\u001b[0;34m]\u001b[0m\u001b[0;34m\u001b[0m\u001b[0m\n\u001b[0;32m---> 11\u001b[0;31m         \u001b[0mspeciesName\u001b[0m \u001b[0;34m=\u001b[0m \u001b[0mget_creature_names\u001b[0m\u001b[0;34m(\u001b[0m\u001b[0mrule_type\u001b[0m\u001b[0;34m)\u001b[0m\u001b[0;34m[\u001b[0m\u001b[0;36m0\u001b[0m\u001b[0;34m]\u001b[0m\u001b[0;34m\u001b[0m\u001b[0m\n\u001b[0m\u001b[1;32m     12\u001b[0m         \u001b[0mspeciesNamePlural\u001b[0m \u001b[0;34m=\u001b[0m \u001b[0mget_creature_names\u001b[0m\u001b[0;34m(\u001b[0m\u001b[0mrule_type\u001b[0m\u001b[0;34m)\u001b[0m\u001b[0;34m[\u001b[0m\u001b[0;36m1\u001b[0m\u001b[0;34m]\u001b[0m\u001b[0;34m\u001b[0m\u001b[0m\n\u001b[1;32m     13\u001b[0m         db_data[rule_type].append({\n",
      "\u001b[0;32m<ipython-input-14-63b16a2c4a33>\u001b[0m in \u001b[0;36mget_creature_names\u001b[0;34m(rule_type)\u001b[0m\n\u001b[1;32m      7\u001b[0m         \u001b[0;34m\"DISJUNCTION_DISJUNCTION\"\u001b[0m\u001b[0;34m:\u001b[0m\u001b[0;34m[\u001b[0m\u001b[0;34m\"luzak\"\u001b[0m\u001b[0;34m,\u001b[0m \u001b[0;34m\"luzaks\"\u001b[0m\u001b[0;34m]\u001b[0m\u001b[0;34m,\u001b[0m\u001b[0;34m\u001b[0m\u001b[0m\n\u001b[1;32m      8\u001b[0m     }\n\u001b[0;32m----> 9\u001b[0;31m     \u001b[0;32mreturn\u001b[0m \u001b[0mgen_creature_names\u001b[0m\u001b[0;34m[\u001b[0m\u001b[0mrule_type\u001b[0m\u001b[0;34m]\u001b[0m\u001b[0;34m\u001b[0m\u001b[0m\n\u001b[0m",
      "\u001b[0;31mNameError\u001b[0m: global name 'gen_creature_names' is not defined"
     ]
    }
   ],
   "source": [
    "# Load Development Data\n",
    "dev_col_prefix = 'dev_{}'\n",
    "dev_concept_summary_file = './dev/concept_summary.json'\n",
    "load_data_into_db(dev_concept_summary_file, dev_col_prefix)"
   ]
  },
  {
   "cell_type": "code",
   "execution_count": 8,
   "metadata": {},
   "outputs": [
    {
     "data": {
      "text/plain": [
       "[u'dev_CONJUNCTION',\n",
       " u'dev_SINGLE_FEATURE',\n",
       " u'pilot_CONJUNCTION',\n",
       " u'pilot_SINGLE_FEATURE',\n",
       " u'system.indexes']"
      ]
     },
     "execution_count": 8,
     "metadata": {},
     "output_type": "execute_result"
    }
   ],
   "source": [
    "# Examine which collections currently exist\n",
    "sorted(db.list_collection_names())"
   ]
  },
  {
   "cell_type": "code",
   "execution_count": 9,
   "metadata": {},
   "outputs": [],
   "source": [
    "db['dev_CONJUNCTION'].drop()\n",
    "db['dev_SINGLE_FEAUTURE'].drop()\n",
    "db['pilot_CONJUNCTION'].drop()\n",
    "db['pilot_SINGLE_FEAUTURE'].drop()"
   ]
  }
 ],
 "metadata": {
  "kernelspec": {
   "display_name": "Python 2",
   "language": "python",
   "name": "python2"
  },
  "language_info": {
   "codemirror_mode": {
    "name": "ipython",
    "version": 2
   },
   "file_extension": ".py",
   "mimetype": "text/x-python",
   "name": "python",
   "nbconvert_exporter": "python",
   "pygments_lexer": "ipython2",
   "version": "2.7.3"
  }
 },
 "nbformat": 4,
 "nbformat_minor": 2
}
