{
 "cells": [
  {
   "cell_type": "code",
   "execution_count": 4,
   "metadata": {},
   "outputs": [],
   "source": [
    "import pymongo as pm\n",
    "import json"
   ]
  },
  {
   "cell_type": "markdown",
   "metadata": {},
   "source": [
    "## Stimuli Upload\n",
    "`ratchet_id` refers to a set of rules to be queried for trials. Each collection of `ratchet_id` has a `_dev` version, except for `dev` collection itself.\n",
    "\n",
    "Current Values:\n",
    "1. `dev`: 2 single features rules, 2 conjunctive rules, 2 disjunctive rules, 2 conjunctive disjunction rules, & 2 disjunctive conjunction rules\n",
    "2. `50_rules`: 10 single feature rules, 10 conjunctive rules, 10 disjunctive rules, 10 conjunctive disjunction rules, & 10 disjunctive conjunction rules"
   ]
  },
  {
   "cell_type": "code",
   "execution_count": 10,
   "metadata": {},
   "outputs": [],
   "source": [
    "def gen_vars(local_machine=True):\n",
    "    if local_machine:\n",
    "        pswd = \"\"\n",
    "        user = \"\"\n",
    "        host = \"localhost\"\n",
    "    else:\n",
    "        auth = pd.read_csv('.auth.txt', header = None)\n",
    "        pswd = auth.values[0][0]\n",
    "        user = 'sketchloop'\n",
    "        host = 'rxdhawkins.me' \n",
    "    return user, pswd, host"
   ]
  },
  {
   "cell_type": "code",
   "execution_count": 18,
   "metadata": {},
   "outputs": [],
   "source": [
    "def get_creature_names(rule_type):\n",
    "    d = {\n",
    "        \"SINGLE_FEATURE\": [\"morseth\", \"morseths\"],\n",
    "        \"CONJUNCTION\": [\"oller\", \"ollers\"],\n",
    "        \"DISJUNCTION\": [\"kwep\", \"kweps\"],\n",
    "        \"CONJUNCTION_DISJUNCTION\": [\"zorb\", \"zorbs\"],\n",
    "        \"DISJUNCTION_DISJUNCTION\":[\"luzak\", \"luzaks\"],        \n",
    "    }\n",
    "    return d[rule_type]"
   ]
  },
  {
   "cell_type": "code",
   "execution_count": 19,
   "metadata": {},
   "outputs": [],
   "source": [
    "def convert_concept_summary_into_db_data(data):\n",
    "    db_data = {\n",
    "        \"SINGLE_FEATURE\": [],\n",
    "        \"CONJUNCTION\": [],\n",
    "        \"DISJUNCTION\": [],\n",
    "        \"CONJUNCTION_DISJUNCTION\": [],\n",
    "        \"DISJUNCTION_DISJUNCTION\": [],\n",
    "    }\n",
    "    for rule_idx, rule in data.items():\n",
    "        rule_type = rule[\"type\"]\n",
    "        speciesName = get_creature_names(rule_type)[0]\n",
    "        speciesNamePlural = get_creature_names(rule_type)[1]\n",
    "        db_data[rule_type].append({\n",
    "            \"rule_idx\": int(rule_idx),\n",
    "            \"file_name\": rule[\"name\"],\n",
    "            \"name\": rule[\"phrase\"],\n",
    "            \"games\": [],\n",
    "            \"numGames\": 0,\n",
    "            \"speciesName\": speciesName,\n",
    "            \"speciesNamePlural\": speciesNamePlural,\n",
    "        })\n",
    "    return db_data"
   ]
  },
  {
   "cell_type": "code",
   "execution_count": 20,
   "metadata": {},
   "outputs": [],
   "source": [
    "def load_data_into_db(concept_summary_file, col_prefix):\n",
    "    with open(concept_summary_file) as f:\n",
    "        data = json.load(f)\n",
    "        db_data = convert_concept_summary_into_db_data(data)\n",
    "        for rule_type, rules in db_data.items():\n",
    "            col = col_prefix.format(rule_type)\n",
    "            for rule in rules:\n",
    "                db[col].insert_one(rule)"
   ]
  },
  {
   "cell_type": "code",
   "execution_count": 15,
   "metadata": {},
   "outputs": [],
   "source": [
    "# Set Variables \n",
    "user, pswd, host = gen_vars(local_machine=True)\n",
    "\n",
    "if user == '' or pswd == '':\n",
    "    conn = pm.MongoClient('mongodb://{}'.format(host))    \n",
    "else:\n",
    "    conn = pm.MongoClient('mongodb://{}:{}@{}'.format(user, pswd, host))\n",
    "db = conn['genGames']\n"
   ]
  },
  {
   "cell_type": "code",
   "execution_count": 29,
   "metadata": {},
   "outputs": [],
   "source": [
    "# Load Development Data\n",
    "dev_col_prefix = 'dev_{}'\n",
    "dev_concept_summary_file = './dev/concept_summary.json'\n",
    "load_data_into_db(dev_concept_summary_file, dev_col_prefix)"
   ]
  },
  {
   "cell_type": "code",
   "execution_count": 30,
   "metadata": {},
   "outputs": [
    {
     "data": {
      "text/plain": [
       "[u'dev_CONJUNCTION', u'dev_SINGLE_FEATURE', u'system.indexes']"
      ]
     },
     "execution_count": 30,
     "metadata": {},
     "output_type": "execute_result"
    }
   ],
   "source": [
    "# Examine which collections currently exist\n",
    "sorted(db.list_collection_names())"
   ]
  },
  {
   "cell_type": "code",
   "execution_count": 28,
   "metadata": {},
   "outputs": [],
   "source": [
    "db['dev_CONJUNCTION'].drop()\n",
    "db['dev_SINGLE_FEATURE'].drop()\n",
    "db['pilot_CONJUNCTION'].drop()\n",
    "db['pilot_SINGLE_FEATURE'].drop()"
   ]
  },
  {
   "cell_type": "code",
   "execution_count": null,
   "metadata": {},
   "outputs": [],
   "source": []
  }
 ],
 "metadata": {
  "kernelspec": {
   "display_name": "Python 2",
   "language": "python",
   "name": "python2"
  },
  "language_info": {
   "codemirror_mode": {
    "name": "ipython",
    "version": 2
   },
   "file_extension": ".py",
   "mimetype": "text/x-python",
   "name": "python",
   "nbconvert_exporter": "python",
   "pygments_lexer": "ipython2",
   "version": "2.7.3"
  }
 },
 "nbformat": 4,
 "nbformat_minor": 2
}
