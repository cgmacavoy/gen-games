{
 "cells": [
  {
   "cell_type": "markdown",
   "metadata": {},
   "source": [
    "## Stimuli Upload\n",
    "`ratchet_id` refers to a set of rules to be queried for trials. Each collection of `ratchet_id` has a `_dev` version.\n",
    "\n",
    "Current Values:\n",
    "1. `pilot`: 2 single features rules, 2 conjunctive rules, 2 disjunctive rules, 2 conjunctive disjunction rules, & 2 disjunctive conjunction rules\n",
    "2. `50_rules`: 10 single feature rules, 10 conjunctive rules, 10 disjunctive rules, 10 conjunctive disjunction rules, & 10 disjunctive conjunction rules"
   ]
  },
  {
   "cell_type": "code",
   "execution_count": null,
   "metadata": {},
   "outputs": [],
   "source": [
    "def gen_vars(local_machine=True):\n",
    "    if local_machine:\n",
    "        pswd = \"\"\n",
    "        user = \"\"\n",
    "        host = \"localhost\"\n",
    "    else:\n",
    "        auth = pd.read_csv('.auth.txt', header = None)\n",
    "        pswd = auth.values[0][0]\n",
    "        user = 'culturalRatchet'\n",
    "        host = 'rxdhawkins.me' "
   ]
  },
  {
   "cell_type": "code",
   "execution_count": null,
   "metadata": {},
   "outputs": [],
   "source": [
    "# Set Variables \n",
    "auth = pd.read_csv('.auth.txt', header = None) # this auth.txt file contains the password for the sketchloop user\n",
    "pswd = auth.values[0][0]\n",
    "user = 'sketchloop'\n",
    "host = 'rxdhawkins.me' ## cocolab ip address\n",
    "\n",
    "# have to fix this to be able to analyze from local\n",
    "conn = pm.MongoClient('mongodb://sketchloop:' + pswd + '@127.0.0.1')\n",
    "db = conn['stimuli']\n",
    "coll_yoked = db[yoked]\n",
    "coll_scrambled40 = db[scrambled40]\n",
    "yoked_dev = yoked + '_dev'\n",
    "scrambled40_dev = scrambled40 + '_dev'\n",
    "scrambled10_dev = scrambled10 + '_dev'\n",
    "coll_yoked_dev = db[yoked_dev]\n",
    "coll_scrambled40_dev = db[scrambled40_dev]\n",
    "coll_scrambled10_dev = db[scrambled10_dev]\n",
    "\n",
    "\n",
    "\n",
    "## actually add data now to the database\n",
    "## recommended sequence: \n",
    "J = J_scrambled40\n",
    "coll = coll_scrambled40\n",
    "reallyRun = 1\n",
    "if reallyRun:\n",
    "    for (i,j) in enumerate(J):\n",
    "        if i%1==0:\n",
    "            print ('%d of %d uploaded ...' % (i,len(J)))\n",
    "            clear_output(wait=True)\n",
    "        coll.insert_one(j)"
   ]
  }
 ],
 "metadata": {
  "kernelspec": {
   "display_name": "Python 2",
   "language": "python",
   "name": "python2"
  },
  "language_info": {
   "codemirror_mode": {
    "name": "ipython",
    "version": 2
   },
   "file_extension": ".py",
   "mimetype": "text/x-python",
   "name": "python",
   "nbconvert_exporter": "python",
   "pygments_lexer": "ipython2",
   "version": "2.7.14"
  }
 },
 "nbformat": 4,
 "nbformat_minor": 2
}
