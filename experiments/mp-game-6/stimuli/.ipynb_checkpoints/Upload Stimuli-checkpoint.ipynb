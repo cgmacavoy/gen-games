{
 "cells": [
  {
   "cell_type": "code",
   "execution_count": 1,
   "metadata": {},
   "outputs": [],
   "source": [
    "import pymongo as pm\n",
    "import json\n",
    "import pandas as pd"
   ]
  },
  {
   "cell_type": "markdown",
   "metadata": {},
   "source": [
    "## Stimuli Upload\n",
    "`ratchet_id` refers to a set of rules to be queried for trials. Each collection of `ratchet_id` has a `_dev` version, except for `dev` collection itself.\n",
    "\n",
    "Current Values:\n",
    "1. `dev`: 2 single features rules, 2 conjunctive rules, 2 disjunctive rules, 2 conjunctive disjunction rules, & 2 disjunctive conjunction rules\n",
    "2. `50_rules`: 10 single feature rules, 10 conjunctive rules, 10 disjunctive rules, 10 conjunctive disjunction rules, & 10 disjunctive conjunction rules"
   ]
  },
  {
   "cell_type": "code",
   "execution_count": 2,
   "metadata": {},
   "outputs": [],
   "source": [
    "def gen_vars(local_machine=True):\n",
    "    if local_machine:\n",
    "        pswd = \"\"\n",
    "        user = \"\"\n",
    "        host = \"localhost\"\n",
    "    else:\n",
    "        auth = pd.read_csv('auth.csv', header = None)\n",
    "        pswd = auth.values[0][0].strip()\n",
    "        user = 'sketchloop'\n",
    "        host = 'localhost' \n",
    "    return user, pswd, host"
   ]
  },
  {
   "cell_type": "code",
   "execution_count": 3,
   "metadata": {},
   "outputs": [],
   "source": [
    "def get_creature_names(rule_type):\n",
    "    d = {\n",
    "        \"SINGLE_FEATURE\": [\"morseth\", \"morseths\"],\n",
    "        \"CONJUNCTION\": [\"oller\", \"ollers\"],\n",
    "        \"DISJUNCTION\": [\"kwep\", \"kweps\"],\n",
    "        \"CONJUNCTION_DISJUNCTION\": [\"zorb\", \"zorbs\"],\n",
    "        \"DISJUNCTION_CONJUNCTION\":[\"luzak\", \"luzaks\"],        \n",
    "    }\n",
    "    return d[rule_type]"
   ]
  },
  {
   "cell_type": "code",
   "execution_count": 4,
   "metadata": {},
   "outputs": [],
   "source": [
    "def convert_concept_summary_into_db_data(data):\n",
    "    db_data = {\n",
    "        \"SINGLE_FEATURE\": [],\n",
    "        \"CONJUNCTION\": [],\n",
    "        \"DISJUNCTION\": [],\n",
    "        \"CONJUNCTION_DISJUNCTION\": [],\n",
    "        \"DISJUNCTION_CONJUNCTION\": [],\n",
    "    }\n",
    "    for rule_idx, rule in data.items():\n",
    "        rule_type = rule[\"type\"]\n",
    "        speciesName = get_creature_names(rule_type)[0]\n",
    "        speciesNamePlural = get_creature_names(rule_type)[1]\n",
    "        db_data[rule_type].append({\n",
    "            \"rule_idx\": int(rule_idx),\n",
    "            \"file_name\": rule[\"name\"],\n",
    "            \"name\": rule[\"phrase\"],\n",
    "            \"games\": [],\n",
    "            \"numGames\": 0,\n",
    "            \"speciesName\": speciesName,\n",
    "            \"speciesNamePlural\": speciesNamePlural,\n",
    "        })\n",
    "    return db_data"
   ]
  },
  {
   "cell_type": "code",
   "execution_count": 5,
   "metadata": {},
   "outputs": [],
   "source": [
    "def load_data_into_db(concept_summary_file, col_prefix):\n",
    "    with open(concept_summary_file) as f:\n",
    "        data = json.load(f)\n",
    "        db_data = convert_concept_summary_into_db_data(data)\n",
    "        for rule_type, rules in db_data.items():\n",
    "            col = col_prefix.format(rule_type)\n",
    "            for rule in rules:\n",
    "                db[col].insert_one(rule)"
   ]
  },
  {
   "cell_type": "code",
   "execution_count": 6,
   "metadata": {},
   "outputs": [],
   "source": [
    "# Set Variables \n",
    "user, pswd, host = gen_vars(local_machine=False)\n",
    "\n",
    "if user == '' or pswd == '':\n",
    "    con_info = 'mongodb://{}'.format(host)   \n",
    "else:\n",
    "    con_info = 'mongodb://{}:{}@{}:27017'.format(user, pswd, host)\n",
    "\n",
    "conn = pm.MongoClient(con_info)\n",
    "db = conn['genGames']"
   ]
  },
  {
   "cell_type": "code",
   "execution_count": 7,
   "metadata": {},
   "outputs": [
    {
     "name": "stdout",
     "output_type": "stream",
     "text": [
      "['fifty_rules_CONJUNCTION', 'fifty_rules_CONJUNCTION_DISJUNCTION', 'fifty_rules_DISJUNCTION', 'fifty_rules_DISJUNCTION_CONJUNCTION', 'fifty_rules_SINGLE_FEATURE', 'mpGame3', 'mpGame4', 'pilot_fifty_rules_CONJUNCTION', 'pilot_fifty_rules_CONJUNCTION_DISJUNCTION', 'pilot_fifty_rules_DISJUNCTION', 'pilot_fifty_rules_DISJUNCTION_CONJUNCTION', 'pilot_fifty_rules_SINGLE_FEATURE']\n"
     ]
    }
   ],
   "source": [
    "# Print Existing DB\n",
    "print(sorted(db.list_collection_names()))"
   ]
  },
  {
   "cell_type": "code",
   "execution_count": 8,
   "metadata": {},
   "outputs": [],
   "source": [
    "# Drop Existing Collections\n",
    "x = sorted(db.list_collection_names())\n",
    "exclude = ['mpGame3', 'mpGame4', 'system.indexes']\n",
    "for i in x:\n",
    "    if i not in exclude:\n",
    "        db[i].drop()"
   ]
  },
  {
   "cell_type": "code",
   "execution_count": 9,
   "metadata": {},
   "outputs": [
    {
     "name": "stdout",
     "output_type": "stream",
     "text": [
      "['mpGame3', 'mpGame4']\n"
     ]
    }
   ],
   "source": [
    "# Print Existing DB\n",
    "print(sorted(db.list_collection_names()))"
   ]
  },
  {
   "cell_type": "code",
   "execution_count": 10,
   "metadata": {},
   "outputs": [],
   "source": [
    "# Load 50 Rules Data (Pilot)\n",
    "fifty_rules_col_prefix = 'pilot_fifty_rules_{}'\n",
    "fifty_rules_concept_summary_file = './fifty_rules/concept_summary.json'\n",
    "load_data_into_db(fifty_rules_concept_summary_file, fifty_rules_col_prefix)"
   ]
  },
  {
   "cell_type": "code",
   "execution_count": 11,
   "metadata": {},
   "outputs": [],
   "source": [
    "# Load 50 Rules Data\n",
    "fifty_rules_col_prefix = 'fifty_rules_{}'\n",
    "fifty_rules_concept_summary_file = './fifty_rules/concept_summary.json'\n",
    "load_data_into_db(fifty_rules_concept_summary_file, fifty_rules_col_prefix)"
   ]
  },
  {
   "cell_type": "code",
   "execution_count": 12,
   "metadata": {},
   "outputs": [
    {
     "data": {
      "text/plain": [
       "['fifty_rules_CONJUNCTION',\n",
       " 'fifty_rules_CONJUNCTION_DISJUNCTION',\n",
       " 'fifty_rules_DISJUNCTION',\n",
       " 'fifty_rules_DISJUNCTION_CONJUNCTION',\n",
       " 'fifty_rules_SINGLE_FEATURE',\n",
       " 'mpGame3',\n",
       " 'mpGame4',\n",
       " 'pilot_fifty_rules_CONJUNCTION',\n",
       " 'pilot_fifty_rules_CONJUNCTION_DISJUNCTION',\n",
       " 'pilot_fifty_rules_DISJUNCTION',\n",
       " 'pilot_fifty_rules_DISJUNCTION_CONJUNCTION',\n",
       " 'pilot_fifty_rules_SINGLE_FEATURE']"
      ]
     },
     "execution_count": 12,
     "metadata": {},
     "output_type": "execute_result"
    }
   ],
   "source": [
    "sorted(db.list_collection_names())"
   ]
  },
  {
   "cell_type": "code",
   "execution_count": null,
   "metadata": {},
   "outputs": [],
   "source": []
  }
 ],
 "metadata": {
  "kernelspec": {
   "display_name": "Python 3",
   "language": "python",
   "name": "python3"
  },
  "language_info": {
   "codemirror_mode": {
    "name": "ipython",
    "version": 3
   },
   "file_extension": ".py",
   "mimetype": "text/x-python",
   "name": "python",
   "nbconvert_exporter": "python",
   "pygments_lexer": "ipython3",
   "version": "3.7.1"
  }
 },
 "nbformat": 4,
 "nbformat_minor": 2
}
