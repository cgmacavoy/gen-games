{
 "cells": [
  {
   "cell_type": "code",
   "execution_count": 21,
   "metadata": {},
   "outputs": [],
   "source": [
    "from pymongo.collection import ReturnDocument\n",
    "import pymongo as pm\n",
    "import json\n",
    "import pandas as pd"
   ]
  },
  {
   "cell_type": "markdown",
   "metadata": {},
   "source": [
    "## Stimuli Upload\n",
    "`ratchet_id` refers to a set of rules to be queried for trials. Each collection of `ratchet_id` has a `_dev` version, except for `dev` collection itself.\n",
    "\n",
    "Current Values:\n",
    "1. `dev`: 2 single features rules, 2 conjunctive rules, 2 disjunctive rules, 2 conjunctive disjunction rules, & 2 disjunctive conjunction rules\n",
    "2. `50_rules`: 10 single feature rules, 10 conjunctive rules, 10 disjunctive rules, 10 conjunctive disjunction rules, & 10 disjunctive conjunction rules"
   ]
  },
  {
   "cell_type": "code",
   "execution_count": 2,
   "metadata": {},
   "outputs": [],
   "source": [
    "def gen_vars(local_machine=True):\n",
    "    if local_machine:\n",
    "        pswd = \"\"\n",
    "        user = \"\"\n",
    "        host = \"localhost\"\n",
    "    else:\n",
    "        auth = pd.read_csv('auth.csv', header = None)\n",
    "        pswd = auth.values[0][0].strip()\n",
    "        user = 'sketchloop'\n",
    "        host = 'localhost' \n",
    "    return user, pswd, host"
   ]
  },
  {
   "cell_type": "code",
   "execution_count": 3,
   "metadata": {},
   "outputs": [],
   "source": [
    "def get_creature_names(rule_type):\n",
    "    d = {\n",
    "        \"SINGLE_FEATURE\": [\"morseth\", \"morseths\"],\n",
    "        \"CONJUNCTION\": [\"oller\", \"ollers\"],\n",
    "        \"DISJUNCTION\": [\"kwep\", \"kweps\"],\n",
    "        \"CONJUNCTION_DISJUNCTION\": [\"zorb\", \"zorbs\"],\n",
    "        \"DISJUNCTION_CONJUNCTION\":[\"luzak\", \"luzaks\"],        \n",
    "    }\n",
    "    return d[rule_type]"
   ]
  },
  {
   "cell_type": "code",
   "execution_count": 4,
   "metadata": {},
   "outputs": [],
   "source": [
    "def convert_concept_summary_into_db_data(data):\n",
    "    db_data = {\n",
    "        \"SINGLE_FEATURE\": [],\n",
    "        \"CONJUNCTION\": [],\n",
    "        \"DISJUNCTION\": [],\n",
    "        \"CONJUNCTION_DISJUNCTION\": [],\n",
    "        \"DISJUNCTION_CONJUNCTION\": [],\n",
    "    }\n",
    "    for rule_idx, rule in data.items():\n",
    "        rule_type = rule[\"type\"]\n",
    "        speciesName = get_creature_names(rule_type)[0]\n",
    "        speciesNamePlural = get_creature_names(rule_type)[1]\n",
    "        db_data[rule_type].append({\n",
    "            \"rule_idx\": int(rule_idx),\n",
    "            \"file_name\": rule[\"name\"],\n",
    "            \"name\": rule[\"phrase\"],\n",
    "            \"games\": [],\n",
    "            \"numGames\": 0,\n",
    "            \"speciesName\": speciesName,\n",
    "            \"speciesNamePlural\": speciesNamePlural,\n",
    "        })\n",
    "    return db_data"
   ]
  },
  {
   "cell_type": "code",
   "execution_count": 5,
   "metadata": {},
   "outputs": [],
   "source": [
    "def load_data_into_db(concept_summary_file, col_prefix):\n",
    "    with open(concept_summary_file) as f:\n",
    "        data = json.load(f)\n",
    "        db_data = convert_concept_summary_into_db_data(data)\n",
    "        for rule_type, rules in db_data.items():\n",
    "            col = col_prefix.format(rule_type)\n",
    "            for rule in rules:\n",
    "                db[col].insert_one(rule)"
   ]
  },
  {
   "cell_type": "code",
   "execution_count": 5,
   "metadata": {},
   "outputs": [],
   "source": [
    "# Set Variables \n",
    "user, pswd, host = gen_vars(local_machine=False)\n",
    "\n",
    "if user == '' or pswd == '':\n",
    "    con_info = 'mongodb://{}'.format(host)   \n",
    "else:\n",
    "    con_info = 'mongodb://{}:{}@{}:27017'.format(user, pswd, host)\n",
    "\n",
    "conn = pm.MongoClient(con_info)\n",
    "db = conn['genGames']"
   ]
  },
  {
   "cell_type": "code",
   "execution_count": 6,
   "metadata": {},
   "outputs": [
    {
     "name": "stdout",
     "output_type": "stream",
     "text": [
      "['fifty_rules_CONJUNCTION', 'fifty_rules_CONJUNCTION_DISJUNCTION', 'fifty_rules_DISJUNCTION', 'fifty_rules_DISJUNCTION_CONJUNCTION', 'fifty_rules_SINGLE_FEATURE', 'mpGame3', 'mpGame4']\n"
     ]
    }
   ],
   "source": [
    "# Print Existing DB\n",
    "print(sorted(db.list_collection_names()))"
   ]
  },
  {
   "cell_type": "code",
   "execution_count": 8,
   "metadata": {},
   "outputs": [],
   "source": [
    "# Drop Existing Collections\n",
    "x = sorted(db.list_collection_names())\n",
    "exclude = ['mpGame3', 'mpGame4', 'system.indexes']\n",
    "for i in x:\n",
    "    if i not in exclude:\n",
    "        db[i].drop()"
   ]
  },
  {
   "cell_type": "code",
   "execution_count": 9,
   "metadata": {},
   "outputs": [
    {
     "name": "stdout",
     "output_type": "stream",
     "text": [
      "['mpGame3', 'mpGame4']\n"
     ]
    }
   ],
   "source": [
    "# Print Existing DB\n",
    "print(sorted(db.list_collection_names()))"
   ]
  },
  {
   "cell_type": "code",
   "execution_count": 34,
   "metadata": {},
   "outputs": [],
   "source": [
    "# Load 50 Rules Data (Pilot)\n",
    "fifty_rules_col_prefix = 'pilot_fifty_rules_{}'\n",
    "fifty_rules_concept_summary_file = './fifty_rules/concept_summary.json'\n",
    "load_data_into_db(fifty_rules_concept_summary_file, fifty_rules_col_prefix)"
   ]
  },
  {
   "cell_type": "code",
   "execution_count": 10,
   "metadata": {},
   "outputs": [],
   "source": [
    "# Load 50 Rules Data\n",
    "fifty_rules_col_prefix = 'fifty_rules_{}'\n",
    "fifty_rules_concept_summary_file = './fifty_rules/concept_summary.json'\n",
    "load_data_into_db(fifty_rules_concept_summary_file, fifty_rules_col_prefix)"
   ]
  },
  {
   "cell_type": "code",
   "execution_count": 7,
   "metadata": {},
   "outputs": [
    {
     "data": {
      "text/plain": [
       "['fifty_rules_CONJUNCTION',\n",
       " 'fifty_rules_CONJUNCTION_DISJUNCTION',\n",
       " 'fifty_rules_DISJUNCTION',\n",
       " 'fifty_rules_DISJUNCTION_CONJUNCTION',\n",
       " 'fifty_rules_SINGLE_FEATURE',\n",
       " 'mpGame3',\n",
       " 'mpGame4']"
      ]
     },
     "execution_count": 7,
     "metadata": {},
     "output_type": "execute_result"
    }
   ],
   "source": [
    "sorted(db.list_collection_names())"
   ]
  },
  {
   "cell_type": "code",
   "execution_count": 35,
   "metadata": {},
   "outputs": [],
   "source": [
    "def update_num_games(db, distr):\n",
    "    # Resetting numGames count for certain rules\n",
    "    # so that get triggered (as we don't have complete data on these)\n",
    "    # just yet.\n",
    "    for (rule_type, rule_idx, num_games) in distr:\n",
    "        record = db[rule_type].find_one({'rule_idx': rule_idx})\n",
    "        updated_record = db[rule_type].find_one_and_update(\n",
    "            {'_id': record['_id']},\n",
    "            {'$set':\n",
    "                 {'numGames': num_games}\n",
    "            },\n",
    "            return_document=ReturnDocument.AFTER\n",
    "        )\n",
    "        print(record['name'], record['numGames'], updated_record['numGames'])"
   ]
  },
  {
   "cell_type": "code",
   "execution_count": 36,
   "metadata": {},
   "outputs": [
    {
     "name": "stdout",
     "output_type": "stream",
     "text": [
      "flowers with orange stems 7 7\n",
      "trees with purple berries 19 7\n",
      "fish with orange bodies and purple stripes 20 7\n",
      "flowers with purple stem and thorns 19 7\n",
      "bugs with orange antennae or wings 20 7\n",
      "fish with orange bodies or fangs 19 7\n",
      "birds with (purple wings and white crests) or white tails 20 7\n",
      "bugs with (purple legs and white heads) or orange wings 19 7\n",
      "trees with (purple trunks or white leaves) and orange berries 20 7\n",
      "birds with (orange tails or white wings) and orange crests 19 7\n",
      "fish with whiskers 20 6\n",
      "bugs without wings 19 6\n",
      "birds with purple wings and crests 19 6\n",
      "flowers with orange petals and purple centers 19 6\n",
      "trees with purple berries or white trunks 19 6\n",
      "fish with white stripes or whiskers 19 6\n",
      "flowers with (purple stems and white petals) or orange centers 19 6\n",
      "bugs with (white legs and purple wings) or orange antennae 19 6\n",
      "fish with (orange bodies or fangs) and whiskers 19 6\n",
      "birds with (white crests or orange wings) and tails 19 6\n",
      "fish with white fangs 20 3\n",
      "bugs with purple legs and white heads 20 3\n",
      "birds with orange tails or white wings 20 3\n",
      "Tree with (orange berries and purple trunks) or white leaves 20 3\n",
      "flowers with (purple centers or orange stems) and thorns 20 3\n",
      "flowers with thorns 20 2\n",
      "bugs without wings 6 2\n",
      "fish with white stripes and whiskers 20 2\n",
      "birds with orange wings and tails 19 2\n",
      "bugs with purple wings or white legs 20 2\n",
      "trees with white leaves or orange berries 19 2\n",
      "birds with (purple crests and purple tails) or orange wings 20 2\n",
      "flowers with (thorns and purple petals) or orange stems 19 2\n",
      "trees with (orange trunks or berries) and white leaves 20 2\n",
      "fish with (white stripes or purple bodies) and whiskers 19 2\n"
     ]
    }
   ],
   "source": [
    "S = 'fifty_rules_SINGLE_FEATURE'\n",
    "C = 'fifty_rules_CONJUNCTION'\n",
    "D = 'fifty_rules_DISJUNCTION'\n",
    "CD = 'fifty_rules_CONJUNCTION_DISJUNCTION'\n",
    "DC = 'fifty_rules_DISJUNCTION_CONJUNCTION'\n",
    "\n",
    "distr = [\n",
    "    (S, 0, 7),\n",
    "    (S, 8, 7),\n",
    "    (C, 10, 7),\n",
    "    (C, 18, 7),\n",
    "    (D, 20, 7),\n",
    "    (D, 28, 7),\n",
    "    (CD, 30, 7),\n",
    "    (CD, 38, 7),\n",
    "    (DC, 40, 7),\n",
    "    (DC, 48, 7),\n",
    "    \n",
    "    (S, 3, 6),\n",
    "    (S, 5, 6),\n",
    "    (C, 14, 6),\n",
    "    (C, 19, 6),\n",
    "    (D, 24, 6),\n",
    "    (D, 29, 6),\n",
    "    (CD, 34, 6),\n",
    "    (CD, 39, 6),\n",
    "    (DC, 44, 6),\n",
    "    (DC, 49, 6),\n",
    "    \n",
    "    (S, 2, 3),\n",
    "    (C, 12, 3),\n",
    "    (D, 22, 3),\n",
    "    (CD, 32, 3),\n",
    "    (DC, 42, 3),\n",
    "    \n",
    "    (S, 1, 2),\n",
    "    (S, 5, 2),\n",
    "    (C, 11, 2),\n",
    "    (C, 15, 2),\n",
    "    (D, 21, 2),\n",
    "    (D, 25, 2),\n",
    "    (CD, 31, 2),\n",
    "    (CD, 35, 2),\n",
    "    (DC, 41, 2),\n",
    "    (DC, 45, 2)\n",
    "]\n",
    "update_num_games(db, distr)"
   ]
  },
  {
   "cell_type": "code",
   "execution_count": null,
   "metadata": {},
   "outputs": [],
   "source": []
  }
 ],
 "metadata": {
  "kernelspec": {
   "display_name": "Python 3",
   "language": "python",
   "name": "python3"
  },
  "language_info": {
   "codemirror_mode": {
    "name": "ipython",
    "version": 3
   },
   "file_extension": ".py",
   "mimetype": "text/x-python",
   "name": "python",
   "nbconvert_exporter": "python",
   "pygments_lexer": "ipython3",
   "version": "3.7.1"
  }
 },
 "nbformat": 4,
 "nbformat_minor": 2
}
